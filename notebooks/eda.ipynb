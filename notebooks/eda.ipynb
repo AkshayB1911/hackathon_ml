{
 "cells": [
  {
   "cell_type": "code",
   "execution_count": 1,
   "id": "6ea3aa88-97f8-4875-bdc4-e5cc40a20fcf",
   "metadata": {},
   "outputs": [],
   "source": [
    "import numpy as np\n",
    "import pandas as pd  \n",
    "import matplotlib.pyplot as plt\n",
    "import seaborn as sns \n",
    "import os"
   ]
  },
  {
   "cell_type": "code",
   "execution_count": 2,
   "id": "b95f3ce0-f793-4925-8c87-7a745344c46f",
   "metadata": {},
   "outputs": [],
   "source": [
    "df=pd.read_csv('D:/AKSHAY/SBI hack/HACKATHON_TRAINING_DATA.csv')"
   ]
  },
  {
   "cell_type": "code",
   "execution_count": 3,
   "id": "dd081963-2bde-4902-a490-8a861fd55c6d",
   "metadata": {},
   "outputs": [
    {
     "name": "stdout",
     "output_type": "stream",
     "text": [
      "['ACCT_AGE', 'LIMIT', 'OUTS', 'ACCT_RESIDUAL_TENURE', 'LOAN_TENURE', 'INSTALAMT', 'SI_FLG', 'AGE', 'VINTAGE', 'KYC_SCR', 'LOCKER_HLDR_IND', 'UID_FLG', 'KYC_FLG', 'INB_FLG', 'EKYC_FLG', 'ONEMNTHCR', 'ONEMNTHSDR', 'ONEMNTHOUTSTANGBAL', 'ONEMNTHAVGMTD', 'ONEMNTHAVGQTD', 'ONEMNTHAVGYTD', 'TWOMNTHSCR', 'TWOMNTHSDR', 'TWOMNTHOUTSTANGBAL', 'TWOMNTHAVGMTD', 'TWOMNTHAVGQTD', 'TWOMNTHAVGYTD', 'THREEMNTHSCR', 'THREEMNTHSDR', 'THREEMNTHOUTSTANGBAL', 'THREEMNTHAVGMTD', 'THREEMNTHAVGQTD', 'THREEMNTHAVGYTD', 'FOURMNTHSCR', 'FOURMNTHSDR', 'FOURMNTHOUTSTANGBAL', 'FOURMNTHAVGMTD', 'FOURMNTHAVGQTD', 'FOURMNTHAVGYTD', 'FIVEMNTHSCR', 'FIVEMNTHSDR', 'FIVEMNTHOUTSTANGBAL', 'FIVEMNTHAVGMTD', 'FIVEMNTHAVGQTD', 'FIVEMNTHAVGYTD', 'SIXMNTHSCR', 'SIXMNTHSDR', 'SIXMNTHOUTSTANGBAL', 'SIXMNTHAVGMTD', 'SIXMNTHAVGQTD', 'SIXMNTHAVGYTD', 'SEVENMNTHSCR', 'SEVENMNTHSDR', 'SEVENMNTHOUTSTANGBAL', 'SEVENMNTHAVGMTD', 'SEVENMNTHAVGQTD', 'SEVENMNTHAVGYTD', 'EIGHTMNTHSCR', 'EIGHTMNTHSDR', 'EIGHTMNTHOUTSTANGBAL', 'EIGHTMNTHAVGMTD', 'EIGHTMNTHAVGQTD', 'EIGHTMNTHAVGYTD', 'NINEMNTHSCR', 'NINEMNTHSDR', 'NINEMNTHOUTSTANGBAL', 'NINEMNTHAVGMTD', 'NINEMNTHAVGQTD', 'NINEMNTHAVGYTD', 'TENMNTHSCR', 'TENMNTHSDR', 'TENMNTHOUTSTANGBAL', 'TENMNTHAVGMTD', 'TENMNTHAVGQTD', 'TENMNTHAVGYTD', 'ELEVENMNTHSCR', 'ELEVENMNTHSDR', 'ELEVENMNTHOUTSTANGBAL', 'ELEVENMNTHAVGMTD', 'ELEVENMNTHAVGQTD', 'ELEVENMNTHAVGYTD', 'TWELVEMNTHSCR', 'TWELVEMNTHSDR', 'TWELVEMNTHOUTSTANGBAL', 'TWELVEMNTHAVGMTD', 'TWELVEMNTHAVGQTD', 'TWELVEMNTHAVGYTD', 'NO_LONS', 'ALL_LON_LIMIT', 'ALL_LON_OUTS', 'ALL_LON_MAX_IRAC', 'OLDEST_LON_TAKEN', 'LATEST_LON_TAKEN', 'LATEST_RESIDUAL_TENURE', 'OLDEST_RESIDUAL_TENURE', 'POP_CODE', 'NO_ENQ', 'FIRST_NPA_TENURE', 'CUST_NO_OF_TIMES_NPA', 'LATEST_NPA_TENURE', 'NO_YRS_NPA', 'LATEST_RG3_TENURE', 'NO_YRS_RG3', 'TOT_IRAC_CHNG', 'TIMES_IRAC_SLIP', 'TIMES_IRAC_UPR', 'LAST_1_YR_RG4', 'LAST_3_YR_RG4', 'LAST_1_YR_RG3', 'LAST_1_YR_RG2', 'LAST_1_YR_RG1', 'CRIFF_11', 'CRIFF_22', 'CRIFF_33', 'CRIFF_44', 'CRIFF_55', 'CRIFF_66', 'TOTAL_CRIFF1', 'DEC_CRIFFCHNG1', 'PRI_NO_OF_ACCTS1', 'PRI_ACTIVE_ACCTS1', 'PRI_OVERDUE_ACCTS1', 'PRI_CURRENT_BALANCE1', 'PRI_SANCTIONED_AMOUNT1', 'PRI_DISBURSED_AMOUNT1', 'PRIMARY_INSTAL_AMT1', 'NEW_ACCTS_IN_LAST_SIX_MONTHS1', 'DELINQUENT_ACCTS_IN_LAST_SIX_MONTHS1', 'AVERAGE_ACCT_AGE1', 'CREDIT_HISTORY_LENGTH1', 'NO_OF_INQUIRIES1', 'INCOME_BAND1', 'AGREG_GROUP', 'PRODUCT_TYPE', 'LATEST_CR_DAYS', 'LATEST_DR_DAYS', 'TIME_PERIOD', 'TARGET', 'UNIQUE_ID']\n"
     ]
    }
   ],
   "source": [
    "columns_list=df.columns.tolist()\n",
    "print(columns_list)"
   ]
  },
  {
   "cell_type": "code",
   "execution_count": 4,
   "id": "f56beb76-3909-42ff-a2b8-8d334effd3eb",
   "metadata": {},
   "outputs": [
    {
     "data": {
      "text/plain": [
       "TARGET\n",
       "0    292301\n",
       "1     35440\n",
       "Name: count, dtype: int64"
      ]
     },
     "execution_count": 4,
     "metadata": {},
     "output_type": "execute_result"
    }
   ],
   "source": [
    "df['TARGET'].value_counts()"
   ]
  },
  {
   "cell_type": "code",
   "execution_count": 5,
   "id": "5c1b23d7-e466-43c5-9bc1-767a67094ac2",
   "metadata": {},
   "outputs": [
    {
     "data": {
      "text/plain": [
       "(327741, 139)"
      ]
     },
     "execution_count": 5,
     "metadata": {},
     "output_type": "execute_result"
    }
   ],
   "source": [
    "df.shape"
   ]
  },
  {
   "cell_type": "code",
   "execution_count": 6,
   "id": "6999158d-bf55-4b33-8e88-0f60f58ca023",
   "metadata": {},
   "outputs": [],
   "source": [
    "import pandas as pd\n",
    "from sklearn.preprocessing import MinMaxScaler\n",
    "from sklearn.impute import SimpleImputer\n",
    "\n",
    "\n",
    "# Drop unnecessary columns\n",
    "df = df.drop(columns=[\"UNIQUE_ID\", \"TIME_PERIOD\"], errors=\"ignore\")\n",
    "\n",
    "# Keep only normal (non-fraud) data for training VAE\n",
    "\n",
    "# Convert '7yrs 6mon' → 90 months\n",
    "def convert_yrs_mon(s):\n",
    "    try:\n",
    "        if pd.isna(s): return None\n",
    "        parts = s.lower().replace(\"yrs\", \"\").replace(\"mon\", \"\").split()\n",
    "        years = int(parts[0]) if len(parts) > 0 else 0\n",
    "        months = int(parts[1]) if len(parts) > 1 else 0\n",
    "        return years * 12 + months\n",
    "    except:\n",
    "        return None\n",
    "\n",
    "if \"CREDIT_HISTORY_LENGTH1\" in df.columns:\n",
    "    df[\"CREDIT_HISTORY_LENGTH1\"] = df[\"CREDIT_HISTORY_LENGTH1\"].apply(convert_yrs_mon)\n",
    "if \"AVERAGE_ACCT_AGE1\" in df.columns:\n",
    "    df[\"AVERAGE_ACCT_AGE1\"] = df[\"AVERAGE_ACCT_AGE1\"].apply(convert_yrs_mon)\n",
    "\n",
    "# Encode categorical columns (simple one-hot or label encoding)\n",
    "cat_cols = df.select_dtypes(include=\"object\").columns\n",
    "df = pd.get_dummies(df, columns=cat_cols, drop_first=True)\n"
   ]
  },
  {
   "cell_type": "code",
   "execution_count": 7,
   "id": "4249dcf3-9c6a-46ce-9b3f-372b237f500b",
   "metadata": {},
   "outputs": [
    {
     "name": "stdout",
     "output_type": "stream",
     "text": [
      "['ACCT_AGE', 'LIMIT', 'OUTS', 'ACCT_RESIDUAL_TENURE', 'LOAN_TENURE', 'INSTALAMT', 'AGE', 'VINTAGE', 'KYC_SCR', 'ONEMNTHCR', 'ONEMNTHSDR', 'ONEMNTHOUTSTANGBAL', 'ONEMNTHAVGMTD', 'ONEMNTHAVGQTD', 'ONEMNTHAVGYTD', 'TWOMNTHSCR', 'TWOMNTHSDR', 'TWOMNTHOUTSTANGBAL', 'TWOMNTHAVGMTD', 'TWOMNTHAVGQTD', 'TWOMNTHAVGYTD', 'THREEMNTHSCR', 'THREEMNTHSDR', 'THREEMNTHOUTSTANGBAL', 'THREEMNTHAVGMTD', 'THREEMNTHAVGQTD', 'THREEMNTHAVGYTD', 'FOURMNTHSCR', 'FOURMNTHSDR', 'FOURMNTHOUTSTANGBAL', 'FOURMNTHAVGMTD', 'FOURMNTHAVGQTD', 'FOURMNTHAVGYTD', 'FIVEMNTHSCR', 'FIVEMNTHSDR', 'FIVEMNTHOUTSTANGBAL', 'FIVEMNTHAVGMTD', 'FIVEMNTHAVGQTD', 'FIVEMNTHAVGYTD', 'SIXMNTHSCR', 'SIXMNTHSDR', 'SIXMNTHOUTSTANGBAL', 'SIXMNTHAVGMTD', 'SIXMNTHAVGQTD', 'SIXMNTHAVGYTD', 'SEVENMNTHSCR', 'SEVENMNTHSDR', 'SEVENMNTHOUTSTANGBAL', 'SEVENMNTHAVGMTD', 'SEVENMNTHAVGQTD', 'SEVENMNTHAVGYTD', 'EIGHTMNTHSCR', 'EIGHTMNTHSDR', 'EIGHTMNTHOUTSTANGBAL', 'EIGHTMNTHAVGMTD', 'EIGHTMNTHAVGQTD', 'EIGHTMNTHAVGYTD', 'NINEMNTHSCR', 'NINEMNTHSDR', 'NINEMNTHOUTSTANGBAL', 'NINEMNTHAVGMTD', 'NINEMNTHAVGQTD', 'NINEMNTHAVGYTD', 'TENMNTHSCR', 'TENMNTHSDR', 'TENMNTHOUTSTANGBAL', 'TENMNTHAVGMTD', 'TENMNTHAVGQTD', 'TENMNTHAVGYTD', 'ELEVENMNTHSCR', 'ELEVENMNTHSDR', 'ELEVENMNTHOUTSTANGBAL', 'ELEVENMNTHAVGMTD', 'ELEVENMNTHAVGQTD', 'ELEVENMNTHAVGYTD', 'TWELVEMNTHSCR', 'TWELVEMNTHSDR', 'TWELVEMNTHOUTSTANGBAL', 'TWELVEMNTHAVGMTD', 'TWELVEMNTHAVGQTD', 'TWELVEMNTHAVGYTD', 'NO_LONS', 'ALL_LON_LIMIT', 'ALL_LON_OUTS', 'ALL_LON_MAX_IRAC', 'OLDEST_LON_TAKEN', 'LATEST_LON_TAKEN', 'LATEST_RESIDUAL_TENURE', 'OLDEST_RESIDUAL_TENURE', 'POP_CODE', 'NO_ENQ', 'FIRST_NPA_TENURE', 'CUST_NO_OF_TIMES_NPA', 'LATEST_NPA_TENURE', 'NO_YRS_NPA', 'LATEST_RG3_TENURE', 'NO_YRS_RG3', 'TOT_IRAC_CHNG', 'TIMES_IRAC_SLIP', 'TIMES_IRAC_UPR', 'LAST_1_YR_RG4', 'LAST_3_YR_RG4', 'LAST_1_YR_RG3', 'LAST_1_YR_RG2', 'LAST_1_YR_RG1', 'CRIFF_11', 'CRIFF_22', 'CRIFF_33', 'CRIFF_44', 'CRIFF_55', 'CRIFF_66', 'TOTAL_CRIFF1', 'DEC_CRIFFCHNG1', 'PRI_NO_OF_ACCTS1', 'PRI_ACTIVE_ACCTS1', 'PRI_OVERDUE_ACCTS1', 'PRI_CURRENT_BALANCE1', 'PRI_SANCTIONED_AMOUNT1', 'PRI_DISBURSED_AMOUNT1', 'PRIMARY_INSTAL_AMT1', 'NEW_ACCTS_IN_LAST_SIX_MONTHS1', 'DELINQUENT_ACCTS_IN_LAST_SIX_MONTHS1', 'AVERAGE_ACCT_AGE1', 'CREDIT_HISTORY_LENGTH1', 'NO_OF_INQUIRIES1', 'LATEST_CR_DAYS', 'LATEST_DR_DAYS', 'TARGET', 'SI_FLG_Y', 'LOCKER_HLDR_IND_Y', 'UID_FLG_Y', 'KYC_FLG_2', 'KYC_FLG_N', 'KYC_FLG_Y', 'INB_FLG_Y', 'EKYC_FLG_Y', 'INCOME_BAND1_B', 'INCOME_BAND1_C', 'INCOME_BAND1_D', 'INCOME_BAND1_E', 'INCOME_BAND1_EX01', 'INCOME_BAND1_EX02', 'INCOME_BAND1_EX04', 'INCOME_BAND1_EX05', 'INCOME_BAND1_F', 'INCOME_BAND1_G', 'INCOME_BAND1_H', 'AGREG_GROUP_#Housing Loan', 'AGREG_GROUP_#Total Auto Loan', 'AGREG_GROUP_#Total Xpress Credit', 'PRODUCT_TYPE_EDUCATION LOAN', 'PRODUCT_TYPE_HOME LOAN', 'PRODUCT_TYPE_PERSONAL LOAN']\n"
     ]
    }
   ],
   "source": [
    "columns_list=df.columns.tolist()\n",
    "print(columns_list)"
   ]
  },
  {
   "cell_type": "code",
   "execution_count": 8,
   "id": "7ecd2869-371a-45f6-96b5-e2812330f506",
   "metadata": {
    "scrolled": true
   },
   "outputs": [
    {
     "name": "stdout",
     "output_type": "stream",
     "text": [
      "ACCT_AGE 0\n",
      "LIMIT 0\n",
      "OUTS 0\n",
      "ACCT_RESIDUAL_TENURE 13\n",
      "LOAN_TENURE 0\n",
      "INSTALAMT 0\n",
      "AGE 2\n",
      "VINTAGE 2\n",
      "KYC_SCR 424\n",
      "ONEMNTHCR 23575\n",
      "ONEMNTHSDR 23575\n",
      "ONEMNTHOUTSTANGBAL 23575\n",
      "ONEMNTHAVGMTD 23575\n",
      "ONEMNTHAVGQTD 23575\n",
      "ONEMNTHAVGYTD 23575\n",
      "TWOMNTHSCR 26221\n",
      "TWOMNTHSDR 26221\n",
      "TWOMNTHOUTSTANGBAL 26221\n",
      "TWOMNTHAVGMTD 26221\n",
      "TWOMNTHAVGQTD 26221\n",
      "TWOMNTHAVGYTD 26221\n",
      "THREEMNTHSCR 28259\n",
      "THREEMNTHSDR 28259\n",
      "THREEMNTHOUTSTANGBAL 28259\n",
      "THREEMNTHAVGMTD 28259\n",
      "THREEMNTHAVGQTD 28259\n",
      "THREEMNTHAVGYTD 28259\n",
      "FOURMNTHSCR 29713\n",
      "FOURMNTHSDR 29713\n",
      "FOURMNTHOUTSTANGBAL 29713\n",
      "FOURMNTHAVGMTD 29713\n",
      "FOURMNTHAVGQTD 29713\n",
      "FOURMNTHAVGYTD 29713\n",
      "FIVEMNTHSCR 30826\n",
      "FIVEMNTHSDR 30826\n",
      "FIVEMNTHOUTSTANGBAL 30826\n",
      "FIVEMNTHAVGMTD 30826\n",
      "FIVEMNTHAVGQTD 30826\n",
      "FIVEMNTHAVGYTD 30826\n",
      "SIXMNTHSCR 31064\n",
      "SIXMNTHSDR 31064\n",
      "SIXMNTHOUTSTANGBAL 31064\n",
      "SIXMNTHAVGMTD 31064\n",
      "SIXMNTHAVGQTD 31064\n",
      "SIXMNTHAVGYTD 31064\n",
      "SEVENMNTHSCR 30461\n",
      "SEVENMNTHSDR 30461\n",
      "SEVENMNTHOUTSTANGBAL 30461\n",
      "SEVENMNTHAVGMTD 30461\n",
      "SEVENMNTHAVGQTD 30461\n",
      "SEVENMNTHAVGYTD 30461\n",
      "EIGHTMNTHSCR 29744\n",
      "EIGHTMNTHSDR 29744\n",
      "EIGHTMNTHOUTSTANGBAL 29744\n",
      "EIGHTMNTHAVGMTD 29744\n",
      "EIGHTMNTHAVGQTD 29744\n",
      "EIGHTMNTHAVGYTD 29744\n",
      "NINEMNTHSCR 29678\n",
      "NINEMNTHSDR 29678\n",
      "NINEMNTHOUTSTANGBAL 29678\n",
      "NINEMNTHAVGMTD 29678\n",
      "NINEMNTHAVGQTD 29678\n",
      "NINEMNTHAVGYTD 29678\n",
      "TENMNTHSCR 29880\n",
      "TENMNTHSDR 29880\n",
      "TENMNTHOUTSTANGBAL 29880\n",
      "TENMNTHAVGMTD 29880\n",
      "TENMNTHAVGQTD 29880\n",
      "TENMNTHAVGYTD 29880\n",
      "ELEVENMNTHSCR 29829\n",
      "ELEVENMNTHSDR 29829\n",
      "ELEVENMNTHOUTSTANGBAL 29829\n",
      "ELEVENMNTHAVGMTD 29829\n",
      "ELEVENMNTHAVGQTD 29829\n",
      "ELEVENMNTHAVGYTD 29829\n",
      "TWELVEMNTHSCR 29547\n",
      "TWELVEMNTHSDR 29547\n",
      "TWELVEMNTHOUTSTANGBAL 29547\n",
      "TWELVEMNTHAVGMTD 29547\n",
      "TWELVEMNTHAVGQTD 29547\n",
      "TWELVEMNTHAVGYTD 29547\n",
      "NO_LONS 0\n",
      "ALL_LON_LIMIT 0\n",
      "ALL_LON_OUTS 0\n",
      "ALL_LON_MAX_IRAC 0\n",
      "OLDEST_LON_TAKEN 0\n",
      "LATEST_LON_TAKEN 0\n",
      "LATEST_RESIDUAL_TENURE 10\n",
      "OLDEST_RESIDUAL_TENURE 10\n",
      "POP_CODE 2\n",
      "NO_ENQ 167955\n",
      "FIRST_NPA_TENURE 215669\n",
      "CUST_NO_OF_TIMES_NPA 215669\n",
      "LATEST_NPA_TENURE 215669\n",
      "NO_YRS_NPA 215669\n",
      "LATEST_RG3_TENURE 3293\n",
      "NO_YRS_RG3 3293\n",
      "TOT_IRAC_CHNG 0\n",
      "TIMES_IRAC_SLIP 0\n",
      "TIMES_IRAC_UPR 0\n",
      "LAST_1_YR_RG4 303363\n",
      "LAST_3_YR_RG4 267761\n",
      "LAST_1_YR_RG3 0\n",
      "LAST_1_YR_RG2 7\n",
      "LAST_1_YR_RG1 17169\n",
      "CRIFF_11 6491\n",
      "CRIFF_22 60174\n",
      "CRIFF_33 60540\n",
      "CRIFF_44 60380\n",
      "CRIFF_55 23941\n",
      "CRIFF_66 24068\n",
      "TOTAL_CRIFF1 6491\n",
      "DEC_CRIFFCHNG1 6491\n",
      "PRI_NO_OF_ACCTS1 6491\n",
      "PRI_ACTIVE_ACCTS1 6491\n",
      "PRI_OVERDUE_ACCTS1 6491\n",
      "PRI_CURRENT_BALANCE1 6491\n",
      "PRI_SANCTIONED_AMOUNT1 6491\n",
      "PRI_DISBURSED_AMOUNT1 6491\n",
      "PRIMARY_INSTAL_AMT1 6491\n",
      "NEW_ACCTS_IN_LAST_SIX_MONTHS1 6491\n",
      "DELINQUENT_ACCTS_IN_LAST_SIX_MONTHS1 6491\n",
      "AVERAGE_ACCT_AGE1 6491\n",
      "CREDIT_HISTORY_LENGTH1 6491\n",
      "NO_OF_INQUIRIES1 6491\n",
      "LATEST_CR_DAYS 1464\n",
      "LATEST_DR_DAYS 0\n",
      "TARGET 0\n",
      "SI_FLG_Y 0\n",
      "LOCKER_HLDR_IND_Y 0\n",
      "UID_FLG_Y 0\n",
      "KYC_FLG_2 0\n",
      "KYC_FLG_N 0\n",
      "KYC_FLG_Y 0\n",
      "INB_FLG_Y 0\n",
      "EKYC_FLG_Y 0\n",
      "INCOME_BAND1_B 0\n",
      "INCOME_BAND1_C 0\n",
      "INCOME_BAND1_D 0\n",
      "INCOME_BAND1_E 0\n",
      "INCOME_BAND1_EX01 0\n",
      "INCOME_BAND1_EX02 0\n",
      "INCOME_BAND1_EX04 0\n",
      "INCOME_BAND1_EX05 0\n",
      "INCOME_BAND1_F 0\n",
      "INCOME_BAND1_G 0\n",
      "INCOME_BAND1_H 0\n",
      "AGREG_GROUP_#Housing Loan 0\n",
      "AGREG_GROUP_#Total Auto Loan 0\n",
      "AGREG_GROUP_#Total Xpress Credit 0\n",
      "PRODUCT_TYPE_EDUCATION LOAN 0\n",
      "PRODUCT_TYPE_HOME LOAN 0\n",
      "PRODUCT_TYPE_PERSONAL LOAN 0\n"
     ]
    }
   ],
   "source": [
    "null_values_cnts=df.isna().sum().tolist()\n",
    "for i in range(len(columns_list)):\n",
    "    print(columns_list[i],null_values_cnts[i])\n"
   ]
  },
  {
   "cell_type": "code",
   "execution_count": 9,
   "id": "bb1c63ef-35b2-4547-a1e1-f704933fe1ed",
   "metadata": {},
   "outputs": [],
   "source": [
    "# FIRST_NPA_TENURE 215669\n",
    "# CUST_NO_OF_TIMES_NPA 215669\n",
    "# LATEST_NPA_TENURE 215669\n",
    "# NO_YRS_NPA 215669\n",
    "\n",
    "# these columns are related to non performing assets and 60% of them are not having \n",
    "# need to handle these seperately  ---> here we can do some graphing based on 0 1 distribution in both the sets"
   ]
  },
  {
   "cell_type": "code",
   "execution_count": 10,
   "id": "8ae1241f-897e-4c5d-a300-3ee34a2100f4",
   "metadata": {},
   "outputs": [],
   "source": [
    "new_df = df[df['FIRST_NPA_TENURE'].isna()]\n"
   ]
  },
  {
   "cell_type": "code",
   "execution_count": 11,
   "id": "9fe45c1b-e494-477d-a563-2c67facb5e19",
   "metadata": {},
   "outputs": [
    {
     "data": {
      "text/plain": [
       "TARGET\n",
       "0    189527\n",
       "1     26142\n",
       "Name: count, dtype: int64"
      ]
     },
     "execution_count": 11,
     "metadata": {},
     "output_type": "execute_result"
    }
   ],
   "source": [
    "new_df['TARGET'].value_counts()"
   ]
  },
  {
   "cell_type": "code",
   "execution_count": 12,
   "id": "bb25866f-9713-4162-b222-ce24ca462e05",
   "metadata": {},
   "outputs": [],
   "source": [
    "new_df2 = df[~df['FIRST_NPA_TENURE'].isna()]"
   ]
  },
  {
   "cell_type": "code",
   "execution_count": 13,
   "id": "93a2bedf-25d5-46de-be3e-5fc5dc0eee5f",
   "metadata": {},
   "outputs": [
    {
     "data": {
      "text/plain": [
       "TARGET\n",
       "0    102774\n",
       "1      9298\n",
       "Name: count, dtype: int64"
      ]
     },
     "execution_count": 13,
     "metadata": {},
     "output_type": "execute_result"
    }
   ],
   "source": [
    "new_df2['TARGET'].value_counts()"
   ]
  },
  {
   "cell_type": "code",
   "execution_count": 14,
   "id": "83b3ddae-2338-407b-b9f0-914ef1a103e1",
   "metadata": {},
   "outputs": [
    {
     "data": {
      "text/plain": [
       "NO_YRS_NPA\n",
       "1.0     50139\n",
       "2.0     23228\n",
       "3.0     13997\n",
       "4.0      8738\n",
       "5.0      5888\n",
       "6.0      3576\n",
       "7.0      2234\n",
       "8.0      1413\n",
       "9.0      1037\n",
       "10.0      645\n",
       "11.0      501\n",
       "12.0      270\n",
       "13.0      211\n",
       "14.0       87\n",
       "15.0       54\n",
       "16.0       38\n",
       "17.0       12\n",
       "18.0        3\n",
       "20.0        1\n",
       "Name: count, dtype: int64"
      ]
     },
     "execution_count": 14,
     "metadata": {},
     "output_type": "execute_result"
    }
   ],
   "source": [
    "df['NO_YRS_NPA'].value_counts()"
   ]
  },
  {
   "cell_type": "code",
   "execution_count": 15,
   "id": "4b125053-825e-49c9-aa9a-072af0d4c760",
   "metadata": {},
   "outputs": [],
   "source": [
    "df['FIRST_NPA_TENURE'].fillna(0,inplace=True)\n",
    "df['CUST_NO_OF_TIMES_NPA'].fillna(0,inplace=True)\n",
    "df['LATEST_NPA_TENURE'].fillna(0,inplace=True)\n",
    "df['NO_YRS_NPA'].fillna(0,inplace=True)"
   ]
  },
  {
   "cell_type": "code",
   "execution_count": 16,
   "id": "0bb31f49-2ce0-4fa4-aa79-5e92c05f2f5b",
   "metadata": {},
   "outputs": [],
   "source": [
    "month_prefixes = [\n",
    "    'ONEMNTH', 'TWOMNTH', 'THREEMNTH', 'FOURMNTH', 'FIVEMNTH', 'SIXMNTH',\n",
    "    'SEVENMNTH', 'EIGHTMNTH', 'NINEMNTH', 'TENMNTH', 'ELEVENMNTH', 'TWELVEMNTH'\n",
    "]\n",
    "\n",
    "# Identify all columns in df that match these month patterns\n",
    "month_columns = [col for col in df.columns if any(col.startswith(prefix) for prefix in month_prefixes)]\n",
    "\n",
    "# Fill NaN in those columns with 0\n",
    "df[month_columns] = df[month_columns].fillna(0)\n",
    "\n",
    "# Check the result\n",
    "missing_counts = df[month_columns].isnull().sum()"
   ]
  },
  {
   "cell_type": "code",
   "execution_count": 17,
   "id": "7d1e5c18-58a5-4475-9ba4-f2747581557f",
   "metadata": {},
   "outputs": [],
   "source": [
    "# Identify numeric columns with null values\n",
    "numeric_cols_with_nulls = [\n",
    "    col for col in df.select_dtypes(include=[\"number\"]).columns\n",
    "    if df[col].isna().any()\n",
    "]\n",
    "\n",
    "# Fill nulls with median for each column\n",
    "for col in numeric_cols_with_nulls:\n",
    "    median_value = df[col].median()\n",
    "    df[col].fillna(median_value, inplace=True)\n"
   ]
  },
  {
   "cell_type": "code",
   "execution_count": 18,
   "id": "cbfeb6e2-d77e-46b5-a447-5c59869014d0",
   "metadata": {},
   "outputs": [
    {
     "name": "stdout",
     "output_type": "stream",
     "text": [
      "ACCT_AGE 0\n",
      "LIMIT 0\n",
      "OUTS 0\n",
      "ACCT_RESIDUAL_TENURE 0\n",
      "LOAN_TENURE 0\n",
      "INSTALAMT 0\n",
      "AGE 0\n",
      "VINTAGE 0\n",
      "KYC_SCR 0\n",
      "ONEMNTHCR 0\n",
      "ONEMNTHSDR 0\n",
      "ONEMNTHOUTSTANGBAL 0\n",
      "ONEMNTHAVGMTD 0\n",
      "ONEMNTHAVGQTD 0\n",
      "ONEMNTHAVGYTD 0\n",
      "TWOMNTHSCR 0\n",
      "TWOMNTHSDR 0\n",
      "TWOMNTHOUTSTANGBAL 0\n",
      "TWOMNTHAVGMTD 0\n",
      "TWOMNTHAVGQTD 0\n",
      "TWOMNTHAVGYTD 0\n",
      "THREEMNTHSCR 0\n",
      "THREEMNTHSDR 0\n",
      "THREEMNTHOUTSTANGBAL 0\n",
      "THREEMNTHAVGMTD 0\n",
      "THREEMNTHAVGQTD 0\n",
      "THREEMNTHAVGYTD 0\n",
      "FOURMNTHSCR 0\n",
      "FOURMNTHSDR 0\n",
      "FOURMNTHOUTSTANGBAL 0\n",
      "FOURMNTHAVGMTD 0\n",
      "FOURMNTHAVGQTD 0\n",
      "FOURMNTHAVGYTD 0\n",
      "FIVEMNTHSCR 0\n",
      "FIVEMNTHSDR 0\n",
      "FIVEMNTHOUTSTANGBAL 0\n",
      "FIVEMNTHAVGMTD 0\n",
      "FIVEMNTHAVGQTD 0\n",
      "FIVEMNTHAVGYTD 0\n",
      "SIXMNTHSCR 0\n",
      "SIXMNTHSDR 0\n",
      "SIXMNTHOUTSTANGBAL 0\n",
      "SIXMNTHAVGMTD 0\n",
      "SIXMNTHAVGQTD 0\n",
      "SIXMNTHAVGYTD 0\n",
      "SEVENMNTHSCR 0\n",
      "SEVENMNTHSDR 0\n",
      "SEVENMNTHOUTSTANGBAL 0\n",
      "SEVENMNTHAVGMTD 0\n",
      "SEVENMNTHAVGQTD 0\n",
      "SEVENMNTHAVGYTD 0\n",
      "EIGHTMNTHSCR 0\n",
      "EIGHTMNTHSDR 0\n",
      "EIGHTMNTHOUTSTANGBAL 0\n",
      "EIGHTMNTHAVGMTD 0\n",
      "EIGHTMNTHAVGQTD 0\n",
      "EIGHTMNTHAVGYTD 0\n",
      "NINEMNTHSCR 0\n",
      "NINEMNTHSDR 0\n",
      "NINEMNTHOUTSTANGBAL 0\n",
      "NINEMNTHAVGMTD 0\n",
      "NINEMNTHAVGQTD 0\n",
      "NINEMNTHAVGYTD 0\n",
      "TENMNTHSCR 0\n",
      "TENMNTHSDR 0\n",
      "TENMNTHOUTSTANGBAL 0\n",
      "TENMNTHAVGMTD 0\n",
      "TENMNTHAVGQTD 0\n",
      "TENMNTHAVGYTD 0\n",
      "ELEVENMNTHSCR 0\n",
      "ELEVENMNTHSDR 0\n",
      "ELEVENMNTHOUTSTANGBAL 0\n",
      "ELEVENMNTHAVGMTD 0\n",
      "ELEVENMNTHAVGQTD 0\n",
      "ELEVENMNTHAVGYTD 0\n",
      "TWELVEMNTHSCR 0\n",
      "TWELVEMNTHSDR 0\n",
      "TWELVEMNTHOUTSTANGBAL 0\n",
      "TWELVEMNTHAVGMTD 0\n",
      "TWELVEMNTHAVGQTD 0\n",
      "TWELVEMNTHAVGYTD 0\n",
      "NO_LONS 0\n",
      "ALL_LON_LIMIT 0\n",
      "ALL_LON_OUTS 0\n",
      "ALL_LON_MAX_IRAC 0\n",
      "OLDEST_LON_TAKEN 0\n",
      "LATEST_LON_TAKEN 0\n",
      "LATEST_RESIDUAL_TENURE 0\n",
      "OLDEST_RESIDUAL_TENURE 0\n",
      "POP_CODE 0\n",
      "NO_ENQ 0\n",
      "FIRST_NPA_TENURE 0\n",
      "CUST_NO_OF_TIMES_NPA 0\n",
      "LATEST_NPA_TENURE 0\n",
      "NO_YRS_NPA 0\n",
      "LATEST_RG3_TENURE 0\n",
      "NO_YRS_RG3 0\n",
      "TOT_IRAC_CHNG 0\n",
      "TIMES_IRAC_SLIP 0\n",
      "TIMES_IRAC_UPR 0\n",
      "LAST_1_YR_RG4 0\n",
      "LAST_3_YR_RG4 0\n",
      "LAST_1_YR_RG3 0\n",
      "LAST_1_YR_RG2 0\n",
      "LAST_1_YR_RG1 0\n",
      "CRIFF_11 0\n",
      "CRIFF_22 0\n",
      "CRIFF_33 0\n",
      "CRIFF_44 0\n",
      "CRIFF_55 0\n",
      "CRIFF_66 0\n",
      "TOTAL_CRIFF1 0\n",
      "DEC_CRIFFCHNG1 0\n",
      "PRI_NO_OF_ACCTS1 0\n",
      "PRI_ACTIVE_ACCTS1 0\n",
      "PRI_OVERDUE_ACCTS1 0\n",
      "PRI_CURRENT_BALANCE1 0\n",
      "PRI_SANCTIONED_AMOUNT1 0\n",
      "PRI_DISBURSED_AMOUNT1 0\n",
      "PRIMARY_INSTAL_AMT1 0\n",
      "NEW_ACCTS_IN_LAST_SIX_MONTHS1 0\n",
      "DELINQUENT_ACCTS_IN_LAST_SIX_MONTHS1 0\n",
      "AVERAGE_ACCT_AGE1 0\n",
      "CREDIT_HISTORY_LENGTH1 0\n",
      "NO_OF_INQUIRIES1 0\n",
      "LATEST_CR_DAYS 0\n",
      "LATEST_DR_DAYS 0\n",
      "TARGET 0\n",
      "SI_FLG_Y 0\n",
      "LOCKER_HLDR_IND_Y 0\n",
      "UID_FLG_Y 0\n",
      "KYC_FLG_2 0\n",
      "KYC_FLG_N 0\n",
      "KYC_FLG_Y 0\n",
      "INB_FLG_Y 0\n",
      "EKYC_FLG_Y 0\n",
      "INCOME_BAND1_B 0\n",
      "INCOME_BAND1_C 0\n",
      "INCOME_BAND1_D 0\n",
      "INCOME_BAND1_E 0\n",
      "INCOME_BAND1_EX01 0\n",
      "INCOME_BAND1_EX02 0\n",
      "INCOME_BAND1_EX04 0\n",
      "INCOME_BAND1_EX05 0\n",
      "INCOME_BAND1_F 0\n",
      "INCOME_BAND1_G 0\n",
      "INCOME_BAND1_H 0\n",
      "AGREG_GROUP_#Housing Loan 0\n",
      "AGREG_GROUP_#Total Auto Loan 0\n",
      "AGREG_GROUP_#Total Xpress Credit 0\n",
      "PRODUCT_TYPE_EDUCATION LOAN 0\n",
      "PRODUCT_TYPE_HOME LOAN 0\n",
      "PRODUCT_TYPE_PERSONAL LOAN 0\n"
     ]
    }
   ],
   "source": [
    "null_values_cnts=df.isna().sum().tolist()\n",
    "for i in range(len(columns_list)):\n",
    "    print(columns_list[i],null_values_cnts[i])"
   ]
  },
  {
   "cell_type": "code",
   "execution_count": 19,
   "id": "a048a6b3-74a8-48b2-9c38-39a3e214da89",
   "metadata": {},
   "outputs": [
    {
     "data": {
      "text/plain": [
       "(327741, 153)"
      ]
     },
     "execution_count": 19,
     "metadata": {},
     "output_type": "execute_result"
    }
   ],
   "source": [
    "df.shape"
   ]
  },
  {
   "cell_type": "code",
   "execution_count": null,
   "id": "f370034f-9516-49f7-980a-cc8cee4abebf",
   "metadata": {},
   "outputs": [],
   "source": []
  },
  {
   "cell_type": "code",
   "execution_count": 20,
   "id": "f1416597-8552-45fc-8eb0-2264f168b580",
   "metadata": {},
   "outputs": [],
   "source": [
    "## time-series features \n",
    "\n",
    "\n",
    "import pandas as pd\n",
    "import numpy as np\n",
    "\n",
    "def calculate_slope_vectorized(values):\n",
    "    \"\"\"Vectorized calculation of linear regression slope\"\"\"\n",
    "    n_periods = values.shape[1]\n",
    "    X = np.arange(n_periods)\n",
    "    X_mean = X.mean()\n",
    "    X_centered = X - X_mean\n",
    "    Y_centered = values.sub(values.mean(axis=1), axis=0)\n",
    "    numerator = (Y_centered * X_centered).sum(axis=1)\n",
    "    denominator = (X_centered ** 2).sum()\n",
    "    return numerator / denominator\n",
    "\n",
    "def create_time_series_features(df, columns, prefix):\n",
    "    \"\"\"\n",
    "    Create time series features from monthly data columns with optimized performance\n",
    "    \n",
    "    Parameters:\n",
    "    df (pd.DataFrame): Input dataframe\n",
    "    columns (list): List of column names in chronological order\n",
    "    prefix (str): Prefix for the new feature names\n",
    "    \n",
    "    Returns:\n",
    "    pd.DataFrame: DataFrame with new features added\n",
    "    \"\"\"\n",
    "    values = df[columns].copy()\n",
    "    \n",
    "    # Calculate all features in a dictionary first to avoid fragmentation\n",
    "    new_features = {}\n",
    "    \n",
    "    # Basic statistics\n",
    "    new_features[f'{prefix}_mean'] = values.mean(axis=1)\n",
    "    new_features[f'{prefix}_std'] = values.std(axis=1)\n",
    "    new_features[f'{prefix}_min'] = values.min(axis=1)\n",
    "    new_features[f'{prefix}_max'] = values.max(axis=1)\n",
    "    new_features[f'{prefix}_median'] = values.median(axis=1)\n",
    "    new_features[f'{prefix}_cv'] = (new_features[f'{prefix}_std'] / \n",
    "                                  (new_features[f'{prefix}_mean'] + 1e-5))\n",
    "    \n",
    "    # Month-over-month changes\n",
    "    deltas = values.diff(axis=1).iloc[:, 1:]\n",
    "    new_features[f'{prefix}_max_diff'] = deltas.abs().max(axis=1)\n",
    "    new_features[f'{prefix}_mean_diff'] = deltas.mean(axis=1)\n",
    "    new_features[f'{prefix}_last_diff'] = deltas.iloc[:, -1]\n",
    "    \n",
    "    # Vectorized slope calculation\n",
    "    new_features[f'{prefix}_slope'] = calculate_slope_vectorized(values)\n",
    "    \n",
    "    # Recent vs historical comparison\n",
    "    if len(columns) >= 3:\n",
    "        recent = values.iloc[:, -3:].mean(axis=1)\n",
    "        historical = values.iloc[:, :-3].mean(axis=1)\n",
    "        new_features[f'{prefix}_recent_vs_historical'] = recent - historical\n",
    "    \n",
    "    # Convert to DataFrame and concatenate all at once\n",
    "    new_features_df = pd.DataFrame(new_features)\n",
    "    \n",
    "    # Return concatenated DataFrame to avoid fragmentation warnings\n",
    "    return pd.concat([df, new_features_df], axis=1)\n",
    "\n",
    "def process_all_time_series_features(df):\n",
    "    \"\"\"\n",
    "    Process all time series features in the dataset with optimized performance\n",
    "    \"\"\"\n",
    "    # Define all the time series patterns we want to process\n",
    "    time_series_patterns = {\n",
    "        'SCR': ['ONEMNTHCR', 'TWOMNTHSCR', 'THREEMNTHSCR', 'FOURMNTHSCR',\n",
    "                'FIVEMNTHSCR', 'SIXMNTHSCR', 'SEVENMNTHSCR', 'EIGHTMNTHSCR',\n",
    "                'NINEMNTHSCR', 'TENMNTHSCR', 'ELEVENMNTHSCR', 'TWELVEMNTHSCR'],\n",
    "        \n",
    "        'SDR': ['ONEMNTHSDR', 'TWOMNTHSDR', 'THREEMNTHSDR', 'FOURMNTHSDR',\n",
    "                'FIVEMNTHSDR', 'SIXMNTHSDR', 'SEVENMNTHSDR', 'EIGHTMNTHSDR',\n",
    "                'NINEMNTHSDR', 'TENMNTHSDR', 'ELEVENMNTHSDR', 'TWELVEMNTHSDR'],\n",
    "        \n",
    "        'OUTSTANGBAL': ['ONEMNTHOUTSTANGBAL', 'TWOMNTHOUTSTANGBAL', 'THREEMNTHOUTSTANGBAL', \n",
    "                        'FOURMNTHOUTSTANGBAL', 'FIVEMNTHOUTSTANGBAL', 'SIXMNTHOUTSTANGBAL',\n",
    "                        'SEVENMNTHOUTSTANGBAL', 'EIGHTMNTHOUTSTANGBAL', 'NINEMNTHOUTSTANGBAL',\n",
    "                        'TENMNTHOUTSTANGBAL', 'ELEVENMNTHOUTSTANGBAL', 'TWELVEMNTHOUTSTANGBAL'],\n",
    "        \n",
    "        'AVGMTD': ['ONEMNTHAVGMTD', 'TWOMNTHAVGMTD', 'THREEMNTHAVGMTD', 'FOURMNTHAVGMTD',\n",
    "                   'FIVEMNTHAVGMTD', 'SIXMNTHAVGMTD', 'SEVENMNTHAVGMTD', 'EIGHTMNTHAVGMTD',\n",
    "                   'NINEMNTHAVGMTD', 'TENMNTHAVGMTD', 'ELEVENMNTHAVGMTD', 'TWELVEMNTHAVGMTD'],\n",
    "        \n",
    "        'AVGQTD': ['ONEMNTHAVGQTD', 'TWOMNTHAVGQTD', 'THREEMNTHAVGQTD', 'FOURMNTHAVGQTD',\n",
    "                   'FIVEMNTHAVGQTD', 'SIXMNTHAVGQTD', 'SEVENMNTHAVGQTD', 'EIGHTMNTHAVGQTD',\n",
    "                   'NINEMNTHAVGQTD', 'TENMNTHAVGQTD', 'ELEVENMNTHAVGQTD', 'TWELVEMNTHAVGQTD'],\n",
    "        \n",
    "        'AVGYTD': ['ONEMNTHAVGYTD', 'TWOMNTHAVGYTD', 'THREEMNTHAVGYTD', 'FOURMNTHAVGYTD',\n",
    "                   'FIVEMNTHAVGYTD', 'SIXMNTHAVGYTD', 'SEVENMNTHAVGYTD', 'EIGHTMNTHAVGYTD',\n",
    "                   'NINEMNTHAVGYTD', 'TENMNTHAVGYTD', 'ELEVENMNTHAVGYTD', 'TWELVEMNTHAVGYTD']\n",
    "    }\n",
    "    \n",
    "    # Process each time series pattern\n",
    "    for prefix, columns in time_series_patterns.items():\n",
    "        # Check if all columns exist in the dataframe\n",
    "        available_columns = [col for col in columns if col in df.columns]\n",
    "        if len(available_columns) >= 3:  # Only process if we have at least 3 months data\n",
    "            try:\n",
    "                df = create_time_series_features(df, available_columns, prefix)\n",
    "            except Exception as e:\n",
    "                print(f\"Error processing {prefix}: {str(e)}\")\n",
    "                continue\n",
    "    \n",
    "    return df"
   ]
  },
  {
   "cell_type": "code",
   "execution_count": 21,
   "id": "3050ee66-8ba3-48c2-a6ac-bac66acaa321",
   "metadata": {},
   "outputs": [],
   "source": [
    "# Process your DataFrame\n",
    "df = process_all_time_series_features(df)\n",
    "\n",
    "# Optional: If you want to ensure no fragmentation remains\n",
    "df = df.copy()"
   ]
  },
  {
   "cell_type": "code",
   "execution_count": 22,
   "id": "ee9e3257-6d8b-44ed-9b32-e33fb99b678c",
   "metadata": {},
   "outputs": [
    {
     "data": {
      "text/plain": [
       "(327741, 219)"
      ]
     },
     "execution_count": 22,
     "metadata": {},
     "output_type": "execute_result"
    }
   ],
   "source": [
    "df.shape"
   ]
  },
  {
   "cell_type": "code",
   "execution_count": 23,
   "id": "12114143-6886-40be-a203-19250b5f8f79",
   "metadata": {},
   "outputs": [
    {
     "name": "stdout",
     "output_type": "stream",
     "text": [
      "['ACCT_AGE', 'LIMIT', 'OUTS', 'ACCT_RESIDUAL_TENURE', 'LOAN_TENURE', 'INSTALAMT', 'AGE', 'VINTAGE', 'KYC_SCR', 'ONEMNTHCR', 'ONEMNTHSDR', 'ONEMNTHOUTSTANGBAL', 'ONEMNTHAVGMTD', 'ONEMNTHAVGQTD', 'ONEMNTHAVGYTD', 'TWOMNTHSCR', 'TWOMNTHSDR', 'TWOMNTHOUTSTANGBAL', 'TWOMNTHAVGMTD', 'TWOMNTHAVGQTD', 'TWOMNTHAVGYTD', 'THREEMNTHSCR', 'THREEMNTHSDR', 'THREEMNTHOUTSTANGBAL', 'THREEMNTHAVGMTD', 'THREEMNTHAVGQTD', 'THREEMNTHAVGYTD', 'FOURMNTHSCR', 'FOURMNTHSDR', 'FOURMNTHOUTSTANGBAL', 'FOURMNTHAVGMTD', 'FOURMNTHAVGQTD', 'FOURMNTHAVGYTD', 'FIVEMNTHSCR', 'FIVEMNTHSDR', 'FIVEMNTHOUTSTANGBAL', 'FIVEMNTHAVGMTD', 'FIVEMNTHAVGQTD', 'FIVEMNTHAVGYTD', 'SIXMNTHSCR', 'SIXMNTHSDR', 'SIXMNTHOUTSTANGBAL', 'SIXMNTHAVGMTD', 'SIXMNTHAVGQTD', 'SIXMNTHAVGYTD', 'SEVENMNTHSCR', 'SEVENMNTHSDR', 'SEVENMNTHOUTSTANGBAL', 'SEVENMNTHAVGMTD', 'SEVENMNTHAVGQTD', 'SEVENMNTHAVGYTD', 'EIGHTMNTHSCR', 'EIGHTMNTHSDR', 'EIGHTMNTHOUTSTANGBAL', 'EIGHTMNTHAVGMTD', 'EIGHTMNTHAVGQTD', 'EIGHTMNTHAVGYTD', 'NINEMNTHSCR', 'NINEMNTHSDR', 'NINEMNTHOUTSTANGBAL', 'NINEMNTHAVGMTD', 'NINEMNTHAVGQTD', 'NINEMNTHAVGYTD', 'TENMNTHSCR', 'TENMNTHSDR', 'TENMNTHOUTSTANGBAL', 'TENMNTHAVGMTD', 'TENMNTHAVGQTD', 'TENMNTHAVGYTD', 'ELEVENMNTHSCR', 'ELEVENMNTHSDR', 'ELEVENMNTHOUTSTANGBAL', 'ELEVENMNTHAVGMTD', 'ELEVENMNTHAVGQTD', 'ELEVENMNTHAVGYTD', 'TWELVEMNTHSCR', 'TWELVEMNTHSDR', 'TWELVEMNTHOUTSTANGBAL', 'TWELVEMNTHAVGMTD', 'TWELVEMNTHAVGQTD', 'TWELVEMNTHAVGYTD', 'NO_LONS', 'ALL_LON_LIMIT', 'ALL_LON_OUTS', 'ALL_LON_MAX_IRAC', 'OLDEST_LON_TAKEN', 'LATEST_LON_TAKEN', 'LATEST_RESIDUAL_TENURE', 'OLDEST_RESIDUAL_TENURE', 'POP_CODE', 'NO_ENQ', 'FIRST_NPA_TENURE', 'CUST_NO_OF_TIMES_NPA', 'LATEST_NPA_TENURE', 'NO_YRS_NPA', 'LATEST_RG3_TENURE', 'NO_YRS_RG3', 'TOT_IRAC_CHNG', 'TIMES_IRAC_SLIP', 'TIMES_IRAC_UPR', 'LAST_1_YR_RG4', 'LAST_3_YR_RG4', 'LAST_1_YR_RG3', 'LAST_1_YR_RG2', 'LAST_1_YR_RG1', 'CRIFF_11', 'CRIFF_22', 'CRIFF_33', 'CRIFF_44', 'CRIFF_55', 'CRIFF_66', 'TOTAL_CRIFF1', 'DEC_CRIFFCHNG1', 'PRI_NO_OF_ACCTS1', 'PRI_ACTIVE_ACCTS1', 'PRI_OVERDUE_ACCTS1', 'PRI_CURRENT_BALANCE1', 'PRI_SANCTIONED_AMOUNT1', 'PRI_DISBURSED_AMOUNT1', 'PRIMARY_INSTAL_AMT1', 'NEW_ACCTS_IN_LAST_SIX_MONTHS1', 'DELINQUENT_ACCTS_IN_LAST_SIX_MONTHS1', 'AVERAGE_ACCT_AGE1', 'CREDIT_HISTORY_LENGTH1', 'NO_OF_INQUIRIES1', 'LATEST_CR_DAYS', 'LATEST_DR_DAYS', 'TARGET', 'SI_FLG_Y', 'LOCKER_HLDR_IND_Y', 'UID_FLG_Y', 'KYC_FLG_2', 'KYC_FLG_N', 'KYC_FLG_Y', 'INB_FLG_Y', 'EKYC_FLG_Y', 'INCOME_BAND1_B', 'INCOME_BAND1_C', 'INCOME_BAND1_D', 'INCOME_BAND1_E', 'INCOME_BAND1_EX01', 'INCOME_BAND1_EX02', 'INCOME_BAND1_EX04', 'INCOME_BAND1_EX05', 'INCOME_BAND1_F', 'INCOME_BAND1_G', 'INCOME_BAND1_H', 'AGREG_GROUP_#Housing Loan', 'AGREG_GROUP_#Total Auto Loan', 'AGREG_GROUP_#Total Xpress Credit', 'PRODUCT_TYPE_EDUCATION LOAN', 'PRODUCT_TYPE_HOME LOAN', 'PRODUCT_TYPE_PERSONAL LOAN', 'SCR_mean', 'SCR_std', 'SCR_min', 'SCR_max', 'SCR_median', 'SCR_cv', 'SCR_max_diff', 'SCR_mean_diff', 'SCR_last_diff', 'SCR_slope', 'SCR_recent_vs_historical', 'SDR_mean', 'SDR_std', 'SDR_min', 'SDR_max', 'SDR_median', 'SDR_cv', 'SDR_max_diff', 'SDR_mean_diff', 'SDR_last_diff', 'SDR_slope', 'SDR_recent_vs_historical', 'OUTSTANGBAL_mean', 'OUTSTANGBAL_std', 'OUTSTANGBAL_min', 'OUTSTANGBAL_max', 'OUTSTANGBAL_median', 'OUTSTANGBAL_cv', 'OUTSTANGBAL_max_diff', 'OUTSTANGBAL_mean_diff', 'OUTSTANGBAL_last_diff', 'OUTSTANGBAL_slope', 'OUTSTANGBAL_recent_vs_historical', 'AVGMTD_mean', 'AVGMTD_std', 'AVGMTD_min', 'AVGMTD_max', 'AVGMTD_median', 'AVGMTD_cv', 'AVGMTD_max_diff', 'AVGMTD_mean_diff', 'AVGMTD_last_diff', 'AVGMTD_slope', 'AVGMTD_recent_vs_historical', 'AVGQTD_mean', 'AVGQTD_std', 'AVGQTD_min', 'AVGQTD_max', 'AVGQTD_median', 'AVGQTD_cv', 'AVGQTD_max_diff', 'AVGQTD_mean_diff', 'AVGQTD_last_diff', 'AVGQTD_slope', 'AVGQTD_recent_vs_historical', 'AVGYTD_mean', 'AVGYTD_std', 'AVGYTD_min', 'AVGYTD_max', 'AVGYTD_median', 'AVGYTD_cv', 'AVGYTD_max_diff', 'AVGYTD_mean_diff', 'AVGYTD_last_diff', 'AVGYTD_slope', 'AVGYTD_recent_vs_historical']\n"
     ]
    }
   ],
   "source": [
    "columns_list=df.columns.tolist()\n",
    "print(columns_list)"
   ]
  },
  {
   "cell_type": "code",
   "execution_count": 25,
   "id": "939b0223-b98c-435e-8531-c67e87558a10",
   "metadata": {},
   "outputs": [
    {
     "data": {
      "text/html": [
       "<div>\n",
       "<style scoped>\n",
       "    .dataframe tbody tr th:only-of-type {\n",
       "        vertical-align: middle;\n",
       "    }\n",
       "\n",
       "    .dataframe tbody tr th {\n",
       "        vertical-align: top;\n",
       "    }\n",
       "\n",
       "    .dataframe thead th {\n",
       "        text-align: right;\n",
       "    }\n",
       "</style>\n",
       "<table border=\"1\" class=\"dataframe\">\n",
       "  <thead>\n",
       "    <tr style=\"text-align: right;\">\n",
       "      <th></th>\n",
       "      <th>ACCT_AGE</th>\n",
       "      <th>LIMIT</th>\n",
       "      <th>OUTS</th>\n",
       "      <th>ACCT_RESIDUAL_TENURE</th>\n",
       "      <th>LOAN_TENURE</th>\n",
       "      <th>INSTALAMT</th>\n",
       "      <th>AGE</th>\n",
       "      <th>VINTAGE</th>\n",
       "      <th>KYC_SCR</th>\n",
       "      <th>ONEMNTHCR</th>\n",
       "      <th>...</th>\n",
       "      <th>AVGYTD_std</th>\n",
       "      <th>AVGYTD_min</th>\n",
       "      <th>AVGYTD_max</th>\n",
       "      <th>AVGYTD_median</th>\n",
       "      <th>AVGYTD_cv</th>\n",
       "      <th>AVGYTD_max_diff</th>\n",
       "      <th>AVGYTD_mean_diff</th>\n",
       "      <th>AVGYTD_last_diff</th>\n",
       "      <th>AVGYTD_slope</th>\n",
       "      <th>AVGYTD_recent_vs_historical</th>\n",
       "    </tr>\n",
       "  </thead>\n",
       "  <tbody>\n",
       "    <tr>\n",
       "      <th>0</th>\n",
       "      <td>1.613</td>\n",
       "      <td>1005500.0</td>\n",
       "      <td>494161.89</td>\n",
       "      <td>0.890</td>\n",
       "      <td>914</td>\n",
       "      <td>38513.0</td>\n",
       "      <td>57.663</td>\n",
       "      <td>18.601</td>\n",
       "      <td>110.0</td>\n",
       "      <td>0.00</td>\n",
       "      <td>...</td>\n",
       "      <td>12753.141910</td>\n",
       "      <td>0.000</td>\n",
       "      <td>29426.483</td>\n",
       "      <td>0.00</td>\n",
       "      <td>1.435472</td>\n",
       "      <td>20640.227</td>\n",
       "      <td>2675.134818</td>\n",
       "      <td>2734.226</td>\n",
       "      <td>3010.137073</td>\n",
       "      <td>24113.228111</td>\n",
       "    </tr>\n",
       "    <tr>\n",
       "      <th>1</th>\n",
       "      <td>1.783</td>\n",
       "      <td>1005500.0</td>\n",
       "      <td>428072.24</td>\n",
       "      <td>0.720</td>\n",
       "      <td>914</td>\n",
       "      <td>38513.0</td>\n",
       "      <td>57.833</td>\n",
       "      <td>18.771</td>\n",
       "      <td>110.0</td>\n",
       "      <td>217563.57</td>\n",
       "      <td>...</td>\n",
       "      <td>32663.392406</td>\n",
       "      <td>-79624.206</td>\n",
       "      <td>24788.878</td>\n",
       "      <td>0.00</td>\n",
       "      <td>-3.904352</td>\n",
       "      <td>79624.206</td>\n",
       "      <td>8731.642727</td>\n",
       "      <td>1616.864</td>\n",
       "      <td>6990.969437</td>\n",
       "      <td>33595.715000</td>\n",
       "    </tr>\n",
       "    <tr>\n",
       "      <th>2</th>\n",
       "      <td>1.698</td>\n",
       "      <td>1005500.0</td>\n",
       "      <td>461364.10</td>\n",
       "      <td>0.805</td>\n",
       "      <td>914</td>\n",
       "      <td>38513.0</td>\n",
       "      <td>57.748</td>\n",
       "      <td>18.686</td>\n",
       "      <td>110.0</td>\n",
       "      <td>117666.57</td>\n",
       "      <td>...</td>\n",
       "      <td>27319.383028</td>\n",
       "      <td>-79624.206</td>\n",
       "      <td>26692.257</td>\n",
       "      <td>0.00</td>\n",
       "      <td>-134.397837</td>\n",
       "      <td>79624.206</td>\n",
       "      <td>9665.133000</td>\n",
       "      <td>1903.379</td>\n",
       "      <td>5480.573524</td>\n",
       "      <td>33450.207333</td>\n",
       "    </tr>\n",
       "    <tr>\n",
       "      <th>3</th>\n",
       "      <td>9.127</td>\n",
       "      <td>1005500.0</td>\n",
       "      <td>1204287.25</td>\n",
       "      <td>17.878</td>\n",
       "      <td>9862</td>\n",
       "      <td>12736.0</td>\n",
       "      <td>52.302</td>\n",
       "      <td>14.039</td>\n",
       "      <td>110.0</td>\n",
       "      <td>0.00</td>\n",
       "      <td>...</td>\n",
       "      <td>148.728041</td>\n",
       "      <td>51.970</td>\n",
       "      <td>373.317</td>\n",
       "      <td>51.97</td>\n",
       "      <td>0.976763</td>\n",
       "      <td>268.522</td>\n",
       "      <td>29.113091</td>\n",
       "      <td>-1.103</td>\n",
       "      <td>34.305983</td>\n",
       "      <td>281.841889</td>\n",
       "    </tr>\n",
       "    <tr>\n",
       "      <th>4</th>\n",
       "      <td>9.296</td>\n",
       "      <td>1005500.0</td>\n",
       "      <td>1203224.25</td>\n",
       "      <td>17.708</td>\n",
       "      <td>9862</td>\n",
       "      <td>12736.0</td>\n",
       "      <td>52.472</td>\n",
       "      <td>14.209</td>\n",
       "      <td>110.0</td>\n",
       "      <td>0.00</td>\n",
       "      <td>...</td>\n",
       "      <td>109.501063</td>\n",
       "      <td>51.970</td>\n",
       "      <td>345.412</td>\n",
       "      <td>51.97</td>\n",
       "      <td>1.108307</td>\n",
       "      <td>268.522</td>\n",
       "      <td>26.676545</td>\n",
       "      <td>24.920</td>\n",
       "      <td>19.736224</td>\n",
       "      <td>187.321333</td>\n",
       "    </tr>\n",
       "  </tbody>\n",
       "</table>\n",
       "<p>5 rows × 219 columns</p>\n",
       "</div>"
      ],
      "text/plain": [
       "   ACCT_AGE      LIMIT        OUTS  ACCT_RESIDUAL_TENURE  LOAN_TENURE  \\\n",
       "0     1.613  1005500.0   494161.89                 0.890          914   \n",
       "1     1.783  1005500.0   428072.24                 0.720          914   \n",
       "2     1.698  1005500.0   461364.10                 0.805          914   \n",
       "3     9.127  1005500.0  1204287.25                17.878         9862   \n",
       "4     9.296  1005500.0  1203224.25                17.708         9862   \n",
       "\n",
       "   INSTALAMT     AGE  VINTAGE  KYC_SCR  ONEMNTHCR  ...    AVGYTD_std  \\\n",
       "0    38513.0  57.663   18.601    110.0       0.00  ...  12753.141910   \n",
       "1    38513.0  57.833   18.771    110.0  217563.57  ...  32663.392406   \n",
       "2    38513.0  57.748   18.686    110.0  117666.57  ...  27319.383028   \n",
       "3    12736.0  52.302   14.039    110.0       0.00  ...    148.728041   \n",
       "4    12736.0  52.472   14.209    110.0       0.00  ...    109.501063   \n",
       "\n",
       "   AVGYTD_min  AVGYTD_max  AVGYTD_median   AVGYTD_cv  AVGYTD_max_diff  \\\n",
       "0       0.000   29426.483           0.00    1.435472        20640.227   \n",
       "1  -79624.206   24788.878           0.00   -3.904352        79624.206   \n",
       "2  -79624.206   26692.257           0.00 -134.397837        79624.206   \n",
       "3      51.970     373.317          51.97    0.976763          268.522   \n",
       "4      51.970     345.412          51.97    1.108307          268.522   \n",
       "\n",
       "   AVGYTD_mean_diff  AVGYTD_last_diff  AVGYTD_slope  \\\n",
       "0       2675.134818          2734.226   3010.137073   \n",
       "1       8731.642727          1616.864   6990.969437   \n",
       "2       9665.133000          1903.379   5480.573524   \n",
       "3         29.113091            -1.103     34.305983   \n",
       "4         26.676545            24.920     19.736224   \n",
       "\n",
       "   AVGYTD_recent_vs_historical  \n",
       "0                 24113.228111  \n",
       "1                 33595.715000  \n",
       "2                 33450.207333  \n",
       "3                   281.841889  \n",
       "4                   187.321333  \n",
       "\n",
       "[5 rows x 219 columns]"
      ]
     },
     "execution_count": 25,
     "metadata": {},
     "output_type": "execute_result"
    }
   ],
   "source": [
    "df.head()"
   ]
  },
  {
   "cell_type": "code",
   "execution_count": 26,
   "id": "350b1a34-d0c6-4fb3-8686-9e9f19a59dfd",
   "metadata": {},
   "outputs": [
    {
     "name": "stdout",
     "output_type": "stream",
     "text": [
      "ACCT_AGE                       float64\n",
      "LIMIT                          float64\n",
      "OUTS                           float64\n",
      "ACCT_RESIDUAL_TENURE           float64\n",
      "LOAN_TENURE                      int64\n",
      "                                ...   \n",
      "AVGYTD_max_diff                float64\n",
      "AVGYTD_mean_diff               float64\n",
      "AVGYTD_last_diff               float64\n",
      "AVGYTD_slope                   float64\n",
      "AVGYTD_recent_vs_historical    float64\n",
      "Length: 219, dtype: object\n"
     ]
    }
   ],
   "source": [
    "print(df.dtypes)"
   ]
  },
  {
   "cell_type": "code",
   "execution_count": 27,
   "id": "adc15552-b941-480a-994c-b4bde4145817",
   "metadata": {},
   "outputs": [
    {
     "name": "stdout",
     "output_type": "stream",
     "text": [
      "['ACCT_AGE', 'LIMIT', 'OUTS', 'ACCT_RESIDUAL_TENURE', 'LOAN_TENURE', 'INSTALAMT', 'AGE', 'VINTAGE', 'KYC_SCR', 'ONEMNTHCR', 'ONEMNTHSDR', 'ONEMNTHOUTSTANGBAL', 'ONEMNTHAVGMTD', 'ONEMNTHAVGQTD', 'ONEMNTHAVGYTD', 'TWOMNTHSCR', 'TWOMNTHSDR', 'TWOMNTHOUTSTANGBAL', 'TWOMNTHAVGMTD', 'TWOMNTHAVGQTD', 'TWOMNTHAVGYTD', 'THREEMNTHSCR', 'THREEMNTHSDR', 'THREEMNTHOUTSTANGBAL', 'THREEMNTHAVGMTD', 'THREEMNTHAVGQTD', 'THREEMNTHAVGYTD', 'FOURMNTHSCR', 'FOURMNTHSDR', 'FOURMNTHOUTSTANGBAL', 'FOURMNTHAVGMTD', 'FOURMNTHAVGQTD', 'FOURMNTHAVGYTD', 'FIVEMNTHSCR', 'FIVEMNTHSDR', 'FIVEMNTHOUTSTANGBAL', 'FIVEMNTHAVGMTD', 'FIVEMNTHAVGQTD', 'FIVEMNTHAVGYTD', 'SIXMNTHSCR', 'SIXMNTHSDR', 'SIXMNTHOUTSTANGBAL', 'SIXMNTHAVGMTD', 'SIXMNTHAVGQTD', 'SIXMNTHAVGYTD', 'SEVENMNTHSCR', 'SEVENMNTHSDR', 'SEVENMNTHOUTSTANGBAL', 'SEVENMNTHAVGMTD', 'SEVENMNTHAVGQTD', 'SEVENMNTHAVGYTD', 'EIGHTMNTHSCR', 'EIGHTMNTHSDR', 'EIGHTMNTHOUTSTANGBAL', 'EIGHTMNTHAVGMTD', 'EIGHTMNTHAVGQTD', 'EIGHTMNTHAVGYTD', 'NINEMNTHSCR', 'NINEMNTHSDR', 'NINEMNTHOUTSTANGBAL', 'NINEMNTHAVGMTD', 'NINEMNTHAVGQTD', 'NINEMNTHAVGYTD', 'TENMNTHSCR', 'TENMNTHSDR', 'TENMNTHOUTSTANGBAL', 'TENMNTHAVGMTD', 'TENMNTHAVGQTD', 'TENMNTHAVGYTD', 'ELEVENMNTHSCR', 'ELEVENMNTHSDR', 'ELEVENMNTHOUTSTANGBAL', 'ELEVENMNTHAVGMTD', 'ELEVENMNTHAVGQTD', 'ELEVENMNTHAVGYTD', 'TWELVEMNTHSCR', 'TWELVEMNTHSDR', 'TWELVEMNTHOUTSTANGBAL', 'TWELVEMNTHAVGMTD', 'TWELVEMNTHAVGQTD', 'TWELVEMNTHAVGYTD', 'NO_LONS', 'ALL_LON_LIMIT', 'ALL_LON_OUTS', 'ALL_LON_MAX_IRAC', 'OLDEST_LON_TAKEN', 'LATEST_LON_TAKEN', 'LATEST_RESIDUAL_TENURE', 'OLDEST_RESIDUAL_TENURE', 'POP_CODE', 'NO_ENQ', 'FIRST_NPA_TENURE', 'CUST_NO_OF_TIMES_NPA', 'LATEST_NPA_TENURE', 'NO_YRS_NPA', 'LATEST_RG3_TENURE', 'NO_YRS_RG3', 'TOT_IRAC_CHNG', 'TIMES_IRAC_SLIP', 'TIMES_IRAC_UPR', 'LAST_1_YR_RG4', 'LAST_3_YR_RG4', 'LAST_1_YR_RG3', 'LAST_1_YR_RG2', 'LAST_1_YR_RG1', 'CRIFF_11', 'CRIFF_22', 'CRIFF_33', 'CRIFF_44', 'CRIFF_55', 'CRIFF_66', 'TOTAL_CRIFF1', 'DEC_CRIFFCHNG1', 'PRI_NO_OF_ACCTS1', 'PRI_ACTIVE_ACCTS1', 'PRI_OVERDUE_ACCTS1', 'PRI_CURRENT_BALANCE1', 'PRI_SANCTIONED_AMOUNT1', 'PRI_DISBURSED_AMOUNT1', 'PRIMARY_INSTAL_AMT1', 'NEW_ACCTS_IN_LAST_SIX_MONTHS1', 'DELINQUENT_ACCTS_IN_LAST_SIX_MONTHS1', 'AVERAGE_ACCT_AGE1', 'CREDIT_HISTORY_LENGTH1', 'NO_OF_INQUIRIES1', 'LATEST_CR_DAYS', 'LATEST_DR_DAYS', 'TARGET', 'SI_FLG_Y', 'LOCKER_HLDR_IND_Y', 'UID_FLG_Y', 'KYC_FLG_2', 'KYC_FLG_N', 'KYC_FLG_Y', 'INB_FLG_Y', 'EKYC_FLG_Y', 'INCOME_BAND1_B', 'INCOME_BAND1_C', 'INCOME_BAND1_D', 'INCOME_BAND1_E', 'INCOME_BAND1_EX01', 'INCOME_BAND1_EX02', 'INCOME_BAND1_EX04', 'INCOME_BAND1_EX05', 'INCOME_BAND1_F', 'INCOME_BAND1_G', 'INCOME_BAND1_H', 'AGREG_GROUP_#Housing Loan', 'AGREG_GROUP_#Total Auto Loan', 'AGREG_GROUP_#Total Xpress Credit', 'PRODUCT_TYPE_EDUCATION LOAN', 'PRODUCT_TYPE_HOME LOAN', 'PRODUCT_TYPE_PERSONAL LOAN', 'SCR_mean', 'SCR_std', 'SCR_min', 'SCR_max', 'SCR_median', 'SCR_cv', 'SCR_max_diff', 'SCR_mean_diff', 'SCR_last_diff', 'SCR_slope', 'SCR_recent_vs_historical', 'SDR_mean', 'SDR_std', 'SDR_min', 'SDR_max', 'SDR_median', 'SDR_cv', 'SDR_max_diff', 'SDR_mean_diff', 'SDR_last_diff', 'SDR_slope', 'SDR_recent_vs_historical', 'OUTSTANGBAL_mean', 'OUTSTANGBAL_std', 'OUTSTANGBAL_min', 'OUTSTANGBAL_max', 'OUTSTANGBAL_median', 'OUTSTANGBAL_cv', 'OUTSTANGBAL_max_diff', 'OUTSTANGBAL_mean_diff', 'OUTSTANGBAL_last_diff', 'OUTSTANGBAL_slope', 'OUTSTANGBAL_recent_vs_historical', 'AVGMTD_mean', 'AVGMTD_std', 'AVGMTD_min', 'AVGMTD_max', 'AVGMTD_median', 'AVGMTD_cv', 'AVGMTD_max_diff', 'AVGMTD_mean_diff', 'AVGMTD_last_diff', 'AVGMTD_slope', 'AVGMTD_recent_vs_historical', 'AVGQTD_mean', 'AVGQTD_std', 'AVGQTD_min', 'AVGQTD_max', 'AVGQTD_median', 'AVGQTD_cv', 'AVGQTD_max_diff', 'AVGQTD_mean_diff', 'AVGQTD_last_diff', 'AVGQTD_slope', 'AVGQTD_recent_vs_historical', 'AVGYTD_mean', 'AVGYTD_std', 'AVGYTD_min', 'AVGYTD_max', 'AVGYTD_median', 'AVGYTD_cv', 'AVGYTD_max_diff', 'AVGYTD_mean_diff', 'AVGYTD_last_diff', 'AVGYTD_slope', 'AVGYTD_recent_vs_historical']\n"
     ]
    }
   ],
   "source": [
    "print(df.columns.tolist())"
   ]
  },
  {
   "cell_type": "code",
   "execution_count": 28,
   "id": "11e3f332-2cde-4b6a-bd5f-c33f91d44b5e",
   "metadata": {},
   "outputs": [
    {
     "name": "stdout",
     "output_type": "stream",
     "text": [
      "<class 'pandas.core.frame.DataFrame'>\n",
      "RangeIndex: 327741 entries, 0 to 327740\n",
      "Columns: 219 entries, ACCT_AGE to AVGYTD_recent_vs_historical\n",
      "dtypes: bool(25), float64(185), int64(9)\n",
      "memory usage: 492.9 MB\n"
     ]
    }
   ],
   "source": [
    "df.info()"
   ]
  },
  {
   "cell_type": "code",
   "execution_count": 29,
   "id": "bf68d409-6e2a-466b-bb2b-e7107f289722",
   "metadata": {},
   "outputs": [
    {
     "data": {
      "text/plain": [
       "(327741, 219)"
      ]
     },
     "execution_count": 29,
     "metadata": {},
     "output_type": "execute_result"
    }
   ],
   "source": [
    "df.shape"
   ]
  },
  {
   "cell_type": "code",
   "execution_count": 30,
   "id": "9021edba-2c55-4824-941a-c7850d04e4fa",
   "metadata": {},
   "outputs": [],
   "source": [
    "#berhavioral changes and anamoly flag\n",
    "\n",
    "import numpy as np\n",
    "# Ratio of last to first SCR\n",
    "df['SCR_ratio_last_first'] = df['TWELVEMNTHSCR'] / (df['ONEMNTHCR'] + 1e-5)\n",
    "# Example for SCR (Score) columns\n",
    "scr_columns = [\n",
    "    'ONEMNTHCR', 'TWOMNTHSCR', 'THREEMNTHSCR', 'FOURMNTHSCR',\n",
    "    'FIVEMNTHSCR', 'SIXMNTHSCR', 'SEVENMNTHSCR', 'EIGHTMNTHSCR',\n",
    "    'NINEMNTHSCR', 'TENMNTHSCR', 'ELEVENMNTHSCR', 'TWELVEMNTHSCR'\n",
    "]\n",
    "# Spike indicator (Z-score based)\n",
    "def zscore_flag(row, cols, threshold=3):\n",
    "    values = row[cols].values\n",
    "    mean = np.mean(values)\n",
    "    std = np.std(values)\n",
    "    return int(any(abs((values - mean) / (std + 1e-5)) > threshold))\n",
    "\n",
    "df['SCR_spike_flag'] = df.apply(lambda row: zscore_flag(row, scr_columns), axis=1)"
   ]
  },
  {
   "cell_type": "code",
   "execution_count": 31,
   "id": "c57985b6-26ae-44dd-a8ea-0d5e6a078c97",
   "metadata": {},
   "outputs": [
    {
     "data": {
      "text/plain": [
       "(327741, 221)"
      ]
     },
     "execution_count": 31,
     "metadata": {},
     "output_type": "execute_result"
    }
   ],
   "source": [
    "df.shape"
   ]
  },
  {
   "cell_type": "code",
   "execution_count": 32,
   "id": "c1d11e29-d3d4-48dd-a76b-348a01210a0c",
   "metadata": {},
   "outputs": [],
   "source": [
    "# Loan Utilization Ratio\n",
    "df['loan_utilization'] = df['ALL_LON_OUTS'] / (df['ALL_LON_LIMIT'] + 1e-5)\n",
    "\n",
    "# IRAC downgrade rate\n",
    "df['irac_slip_rate'] = df['TIMES_IRAC_SLIP'] / (df['TOT_IRAC_CHNG'] + 1e-5)\n",
    "\n",
    "# Loan history span\n",
    "df['loan_span'] = df['OLDEST_LON_TAKEN'] - df['LATEST_LON_TAKEN']\n",
    "\n",
    "# Flags for risky customers\n",
    "df['is_recent_loan'] = (df['LATEST_LON_TAKEN'] <= 6).astype(int)  # e.g., taken in last 6 months\n",
    "df['frequent_irac_changes'] = (df['TOT_IRAC_CHNG'] > 3).astype(int)\n",
    "\n",
    "columns_to_drop = [\n",
    "    'ONEMNTHCR', 'TWOMNTHSCR', 'THREEMNTHSCR', 'FOURMNTHSCR',\n",
    "    'FIVEMNTHSCR', 'SIXMNTHSCR', 'SEVENMNTHSCR', 'EIGHTMNTHSCR',\n",
    "    'NINEMNTHSCR', 'TENMNTHSCR', 'ELEVENMNTHSCR', 'TWELVEMNTHSCR'\n",
    "]\n",
    "df.drop(columns=columns_to_drop, axis=1, inplace=True)\n",
    "\n",
    "# Drop known leaky columns\n",
    "leaky_cols = ['npa_flag', 'npa_date', 'default_flag', 'tenure_post_default', 'recovery_amount', 'account_closure_date']\n",
    "df = df.drop(columns=[col for col in leaky_cols if col in df.columns])"
   ]
  },
  {
   "cell_type": "code",
   "execution_count": 33,
   "id": "d2d1971c-51ed-4b40-b027-fad947a90752",
   "metadata": {},
   "outputs": [
    {
     "data": {
      "text/plain": [
       "(327741, 214)"
      ]
     },
     "execution_count": 33,
     "metadata": {},
     "output_type": "execute_result"
    }
   ],
   "source": [
    "df.shape"
   ]
  },
  {
   "cell_type": "code",
   "execution_count": 34,
   "id": "b07db24f-ed01-4b41-a118-0835bcd3913d",
   "metadata": {},
   "outputs": [
    {
     "name": "stdout",
     "output_type": "stream",
     "text": [
      "✅ Found 12 columns for SDR\n",
      "✅ Found 12 columns for OUTSTANGBAL\n",
      "✅ Found 12 columns for AVGMTD\n",
      "✅ Found 12 columns for AVGQTD\n",
      "✅ Found 12 columns for AVGYTD\n",
      "\n",
      "✅ Dropped 60 time series columns.\n"
     ]
    }
   ],
   "source": [
    "time_series_prefixes = ['SDR', 'OUTSTANGBAL', 'AVGMTD', 'AVGQTD', 'AVGYTD']\n",
    "month_keys = ['ONE', 'TWO', 'THREE', 'FOUR', 'FIVE', 'SIX',\n",
    "              'SEVEN', 'EIGHT', 'NINE', 'TEN', 'ELEVEN', 'TWELVE']\n",
    "\n",
    "def generate_columns(prefix):\n",
    "    # For 'ONE', it's 'ONEMNTH' + prefix (e.g., 'ONEMNTHSDR')\n",
    "    # For others, it's '[MONTH]MNTH' + prefix (e.g., 'TWOMNTHSDR', 'THREEMNTHSDR')\n",
    "    return [f'ONEMNTH{prefix}'] + [f'{m}MNTH{prefix}' for m in month_keys[1:]]\n",
    "\n",
    "all_time_dependent_cols = []\n",
    "\n",
    "for feature in time_series_prefixes:\n",
    "    cols = generate_columns(feature)\n",
    "    \n",
    "    # Filter only columns that are actually in the DataFrame\n",
    "    available_cols = [col for col in cols if col in df.columns]\n",
    "    \n",
    "    # Save these for later drop\n",
    "    all_time_dependent_cols.extend(available_cols)\n",
    "\n",
    "    if available_cols:\n",
    "        print(f\"✅ Found {len(available_cols)} columns for {feature}\")\n",
    "    else:\n",
    "        print(f\"⚠️ No columns found for {feature}\")\n",
    "\n",
    "# Drop only those actually present in the DataFrame\n",
    "df.drop(columns=all_time_dependent_cols, inplace=True, errors='ignore')\n",
    "print(f\"\\n✅ Dropped {len(all_time_dependent_cols)} time series columns.\")"
   ]
  },
  {
   "cell_type": "code",
   "execution_count": 35,
   "id": "a9238709-d6f7-48da-a2e1-ad340a1f02ba",
   "metadata": {},
   "outputs": [
    {
     "data": {
      "text/plain": [
       "(327741, 154)"
      ]
     },
     "execution_count": 35,
     "metadata": {},
     "output_type": "execute_result"
    }
   ],
   "source": [
    "df.shape"
   ]
  },
  {
   "cell_type": "code",
   "execution_count": 36,
   "id": "7c6a2c12-ec97-4835-8b88-a3c81497bb45",
   "metadata": {},
   "outputs": [
    {
     "name": "stdout",
     "output_type": "stream",
     "text": [
      "['ACCT_AGE', 'LIMIT', 'OUTS', 'ACCT_RESIDUAL_TENURE', 'LOAN_TENURE', 'INSTALAMT', 'AGE', 'VINTAGE', 'KYC_SCR', 'NO_LONS', 'ALL_LON_LIMIT', 'ALL_LON_OUTS', 'ALL_LON_MAX_IRAC', 'OLDEST_LON_TAKEN', 'LATEST_LON_TAKEN', 'LATEST_RESIDUAL_TENURE', 'OLDEST_RESIDUAL_TENURE', 'POP_CODE', 'NO_ENQ', 'FIRST_NPA_TENURE', 'CUST_NO_OF_TIMES_NPA', 'LATEST_NPA_TENURE', 'NO_YRS_NPA', 'LATEST_RG3_TENURE', 'NO_YRS_RG3', 'TOT_IRAC_CHNG', 'TIMES_IRAC_SLIP', 'TIMES_IRAC_UPR', 'LAST_1_YR_RG4', 'LAST_3_YR_RG4', 'LAST_1_YR_RG3', 'LAST_1_YR_RG2', 'LAST_1_YR_RG1', 'CRIFF_11', 'CRIFF_22', 'CRIFF_33', 'CRIFF_44', 'CRIFF_55', 'CRIFF_66', 'TOTAL_CRIFF1', 'DEC_CRIFFCHNG1', 'PRI_NO_OF_ACCTS1', 'PRI_ACTIVE_ACCTS1', 'PRI_OVERDUE_ACCTS1', 'PRI_CURRENT_BALANCE1', 'PRI_SANCTIONED_AMOUNT1', 'PRI_DISBURSED_AMOUNT1', 'PRIMARY_INSTAL_AMT1', 'NEW_ACCTS_IN_LAST_SIX_MONTHS1', 'DELINQUENT_ACCTS_IN_LAST_SIX_MONTHS1', 'AVERAGE_ACCT_AGE1', 'CREDIT_HISTORY_LENGTH1', 'NO_OF_INQUIRIES1', 'LATEST_CR_DAYS', 'LATEST_DR_DAYS', 'TARGET', 'SI_FLG_Y', 'LOCKER_HLDR_IND_Y', 'UID_FLG_Y', 'KYC_FLG_2', 'KYC_FLG_N', 'KYC_FLG_Y', 'INB_FLG_Y', 'EKYC_FLG_Y', 'INCOME_BAND1_B', 'INCOME_BAND1_C', 'INCOME_BAND1_D', 'INCOME_BAND1_E', 'INCOME_BAND1_EX01', 'INCOME_BAND1_EX02', 'INCOME_BAND1_EX04', 'INCOME_BAND1_EX05', 'INCOME_BAND1_F', 'INCOME_BAND1_G', 'INCOME_BAND1_H', 'AGREG_GROUP_#Housing Loan', 'AGREG_GROUP_#Total Auto Loan', 'AGREG_GROUP_#Total Xpress Credit', 'PRODUCT_TYPE_EDUCATION LOAN', 'PRODUCT_TYPE_HOME LOAN', 'PRODUCT_TYPE_PERSONAL LOAN', 'SCR_mean', 'SCR_std', 'SCR_min', 'SCR_max', 'SCR_median', 'SCR_cv', 'SCR_max_diff', 'SCR_mean_diff', 'SCR_last_diff', 'SCR_slope', 'SCR_recent_vs_historical', 'SDR_mean', 'SDR_std', 'SDR_min', 'SDR_max', 'SDR_median', 'SDR_cv', 'SDR_max_diff', 'SDR_mean_diff', 'SDR_last_diff', 'SDR_slope', 'SDR_recent_vs_historical', 'OUTSTANGBAL_mean', 'OUTSTANGBAL_std', 'OUTSTANGBAL_min', 'OUTSTANGBAL_max', 'OUTSTANGBAL_median', 'OUTSTANGBAL_cv', 'OUTSTANGBAL_max_diff', 'OUTSTANGBAL_mean_diff', 'OUTSTANGBAL_last_diff', 'OUTSTANGBAL_slope', 'OUTSTANGBAL_recent_vs_historical', 'AVGMTD_mean', 'AVGMTD_std', 'AVGMTD_min', 'AVGMTD_max', 'AVGMTD_median', 'AVGMTD_cv', 'AVGMTD_max_diff', 'AVGMTD_mean_diff', 'AVGMTD_last_diff', 'AVGMTD_slope', 'AVGMTD_recent_vs_historical', 'AVGQTD_mean', 'AVGQTD_std', 'AVGQTD_min', 'AVGQTD_max', 'AVGQTD_median', 'AVGQTD_cv', 'AVGQTD_max_diff', 'AVGQTD_mean_diff', 'AVGQTD_last_diff', 'AVGQTD_slope', 'AVGQTD_recent_vs_historical', 'AVGYTD_mean', 'AVGYTD_std', 'AVGYTD_min', 'AVGYTD_max', 'AVGYTD_median', 'AVGYTD_cv', 'AVGYTD_max_diff', 'AVGYTD_mean_diff', 'AVGYTD_last_diff', 'AVGYTD_slope', 'AVGYTD_recent_vs_historical', 'SCR_ratio_last_first', 'SCR_spike_flag', 'loan_utilization', 'irac_slip_rate', 'loan_span', 'is_recent_loan', 'frequent_irac_changes']\n"
     ]
    }
   ],
   "source": [
    "columns_list=df.columns.tolist()\n",
    "print(columns_list)"
   ]
  },
  {
   "cell_type": "code",
   "execution_count": 37,
   "id": "92061250-04dc-4f38-98b8-abf3f88f6843",
   "metadata": {},
   "outputs": [
    {
     "name": "stdout",
     "output_type": "stream",
     "text": [
      "['ACCT_AGE', 'LIMIT', 'OUTS', 'ACCT_RESIDUAL_TENURE', 'LOAN_TENURE', 'INSTALAMT', 'AGE', 'VINTAGE', 'KYC_SCR', 'NO_LONS', 'ALL_LON_LIMIT', 'ALL_LON_OUTS', 'ALL_LON_MAX_IRAC', 'OLDEST_LON_TAKEN', 'LATEST_LON_TAKEN', 'LATEST_RESIDUAL_TENURE', 'OLDEST_RESIDUAL_TENURE', 'POP_CODE', 'NO_ENQ', 'FIRST_NPA_TENURE', 'CUST_NO_OF_TIMES_NPA', 'LATEST_NPA_TENURE', 'NO_YRS_NPA', 'LATEST_RG3_TENURE', 'NO_YRS_RG3', 'TOT_IRAC_CHNG', 'TIMES_IRAC_SLIP', 'TIMES_IRAC_UPR', 'LAST_1_YR_RG4', 'LAST_3_YR_RG4', 'LAST_1_YR_RG3', 'LAST_1_YR_RG2', 'LAST_1_YR_RG1', 'CRIFF_11', 'CRIFF_22', 'CRIFF_33', 'CRIFF_44', 'CRIFF_55', 'CRIFF_66', 'TOTAL_CRIFF1', 'DEC_CRIFFCHNG1', 'PRI_NO_OF_ACCTS1', 'PRI_ACTIVE_ACCTS1', 'PRI_OVERDUE_ACCTS1', 'PRI_CURRENT_BALANCE1', 'PRI_SANCTIONED_AMOUNT1', 'PRI_DISBURSED_AMOUNT1', 'PRIMARY_INSTAL_AMT1', 'NEW_ACCTS_IN_LAST_SIX_MONTHS1', 'DELINQUENT_ACCTS_IN_LAST_SIX_MONTHS1', 'AVERAGE_ACCT_AGE1', 'CREDIT_HISTORY_LENGTH1', 'NO_OF_INQUIRIES1', 'LATEST_CR_DAYS', 'LATEST_DR_DAYS', 'TARGET', 'SI_FLG_Y', 'LOCKER_HLDR_IND_Y', 'UID_FLG_Y', 'KYC_FLG_2', 'KYC_FLG_N', 'KYC_FLG_Y', 'INB_FLG_Y', 'EKYC_FLG_Y', 'INCOME_BAND1_B', 'INCOME_BAND1_C', 'INCOME_BAND1_D', 'INCOME_BAND1_E', 'INCOME_BAND1_EX01', 'INCOME_BAND1_EX02', 'INCOME_BAND1_EX04', 'INCOME_BAND1_EX05', 'INCOME_BAND1_F', 'INCOME_BAND1_G', 'INCOME_BAND1_H', 'AGREG_GROUP_#Housing Loan', 'AGREG_GROUP_#Total Auto Loan', 'AGREG_GROUP_#Total Xpress Credit', 'PRODUCT_TYPE_EDUCATION LOAN', 'PRODUCT_TYPE_HOME LOAN', 'PRODUCT_TYPE_PERSONAL LOAN', 'SCR_ratio_last_first', 'SCR_spike_flag', 'SCR_mean', 'SCR_std', 'SCR_min', 'SCR_max', 'SCR_median', 'SCR_cv', 'SCR_max_diff', 'SCR_mean_diff', 'SCR_slope', 'loan_utilization', 'irac_slip_rate', 'loan_span', 'is_recent_loan', 'frequent_irac_changes', 'SDR_mean', 'SDR_std', 'SDR_min', 'SDR_max', 'SDR_median', 'SDR_cv', 'SDR_max_diff', 'SDR_mean_diff', 'SDR_slope', 'OUTSTANGBAL_mean', 'OUTSTANGBAL_std', 'OUTSTANGBAL_min', 'OUTSTANGBAL_max', 'OUTSTANGBAL_median', 'OUTSTANGBAL_cv', 'OUTSTANGBAL_max_diff', 'OUTSTANGBAL_mean_diff', 'OUTSTANGBAL_slope', 'AVGMTD_mean', 'AVGMTD_std', 'AVGMTD_min', 'AVGMTD_max', 'AVGMTD_median', 'AVGMTD_cv', 'AVGMTD_max_diff', 'AVGMTD_mean_diff', 'AVGMTD_slope', 'AVGQTD_mean', 'AVGQTD_std', 'AVGQTD_min', 'AVGQTD_max', 'AVGQTD_median', 'AVGQTD_cv', 'AVGQTD_max_diff', 'AVGQTD_mean_diff', 'AVGQTD_slope', 'AVGYTD_mean', 'AVGYTD_std', 'AVGYTD_min', 'AVGYTD_max', 'AVGYTD_median', 'AVGYTD_cv', 'AVGYTD_max_diff', 'AVGYTD_mean_diff', 'AVGYTD_slope']\n"
     ]
    }
   ],
   "source": [
    "import re\n",
    "\n",
    "# Your list of columns\n",
    "cols = ['ACCT_AGE', 'LIMIT', 'OUTS', 'ACCT_RESIDUAL_TENURE', 'LOAN_TENURE', 'INSTALAMT', 'AGE', 'VINTAGE', 'KYC_SCR', 'TWOMNTHSDR', 'TWOMNTHOUTSTANGBAL', 'TWOMNTHAVGMTD', 'TWOMNTHAVGQTD', 'TWOMNTHAVGYTD', 'THREEMNTHSDR', 'THREEMNTHOUTSTANGBAL', 'THREEMNTHAVGMTD', 'THREEMNTHAVGQTD', 'THREEMNTHAVGYTD', 'FOURMNTHSDR', 'FOURMNTHOUTSTANGBAL', 'FOURMNTHAVGMTD', 'FOURMNTHAVGQTD', 'FOURMNTHAVGYTD', 'FIVEMNTHSDR', 'FIVEMNTHOUTSTANGBAL', 'FIVEMNTHAVGMTD', 'FIVEMNTHAVGQTD', 'FIVEMNTHAVGYTD', 'SIXMNTHSDR', 'SIXMNTHOUTSTANGBAL', 'SIXMNTHAVGMTD', 'SIXMNTHAVGQTD', 'SIXMNTHAVGYTD', 'SEVENMNTHSDR', 'SEVENMNTHOUTSTANGBAL', 'SEVENMNTHAVGMTD', 'SEVENMNTHAVGQTD', 'SEVENMNTHAVGYTD', 'EIGHTMNTHSDR', 'EIGHTMNTHOUTSTANGBAL', 'EIGHTMNTHAVGMTD', 'EIGHTMNTHAVGQTD', 'EIGHTMNTHAVGYTD', 'NINEMNTHSDR', 'NINEMNTHOUTSTANGBAL', 'NINEMNTHAVGMTD', 'NINEMNTHAVGQTD', 'NINEMNTHAVGYTD', 'TENMNTHSDR', 'TENMNTHOUTSTANGBAL', 'TENMNTHAVGMTD', 'TENMNTHAVGQTD', 'TENMNTHAVGYTD', 'ELEVENMNTHSDR', 'ELEVENMNTHOUTSTANGBAL', 'ELEVENMNTHAVGMTD', 'ELEVENMNTHAVGQTD', 'ELEVENMNTHAVGYTD', 'TWELVEMNTHSDR', 'TWELVEMNTHOUTSTANGBAL', 'TWELVEMNTHAVGMTD', 'TWELVEMNTHAVGQTD', 'TWELVEMNTHAVGYTD', 'NO_LONS', 'ALL_LON_LIMIT', 'ALL_LON_OUTS', 'ALL_LON_MAX_IRAC', 'OLDEST_LON_TAKEN', 'LATEST_LON_TAKEN', 'LATEST_RESIDUAL_TENURE', 'OLDEST_RESIDUAL_TENURE', 'POP_CODE', 'NO_ENQ', 'FIRST_NPA_TENURE', 'CUST_NO_OF_TIMES_NPA', 'LATEST_NPA_TENURE', 'NO_YRS_NPA', 'LATEST_RG3_TENURE', 'NO_YRS_RG3', 'TOT_IRAC_CHNG', 'TIMES_IRAC_SLIP', 'TIMES_IRAC_UPR', 'LAST_1_YR_RG4', 'LAST_3_YR_RG4', 'LAST_1_YR_RG3', 'LAST_1_YR_RG2', 'LAST_1_YR_RG1', 'CRIFF_11', 'CRIFF_22', 'CRIFF_33', 'CRIFF_44', 'CRIFF_55', 'CRIFF_66', 'TOTAL_CRIFF1', 'DEC_CRIFFCHNG1', 'PRI_NO_OF_ACCTS1', 'PRI_ACTIVE_ACCTS1', 'PRI_OVERDUE_ACCTS1', 'PRI_CURRENT_BALANCE1', 'PRI_SANCTIONED_AMOUNT1', 'PRI_DISBURSED_AMOUNT1', 'PRIMARY_INSTAL_AMT1', 'NEW_ACCTS_IN_LAST_SIX_MONTHS1', 'DELINQUENT_ACCTS_IN_LAST_SIX_MONTHS1', 'AVERAGE_ACCT_AGE1', 'CREDIT_HISTORY_LENGTH1', 'NO_OF_INQUIRIES1', 'LATEST_CR_DAYS', 'LATEST_DR_DAYS', 'TARGET', 'SI_FLG_Y', 'LOCKER_HLDR_IND_Y', 'UID_FLG_Y', 'KYC_FLG_2', 'KYC_FLG_N', 'KYC_FLG_Y', 'INB_FLG_Y', 'EKYC_FLG_Y', 'INCOME_BAND1_B', 'INCOME_BAND1_C', 'INCOME_BAND1_D', 'INCOME_BAND1_E', 'INCOME_BAND1_EX01', 'INCOME_BAND1_EX02', 'INCOME_BAND1_EX04', 'INCOME_BAND1_EX05', 'INCOME_BAND1_F', 'INCOME_BAND1_G', 'INCOME_BAND1_H', 'AGREG_GROUP_#Housing Loan', 'AGREG_GROUP_#Total Auto Loan', 'AGREG_GROUP_#Total Xpress Credit', 'PRODUCT_TYPE_EDUCATION LOAN', 'PRODUCT_TYPE_HOME LOAN', 'PRODUCT_TYPE_PERSONAL LOAN', 'SCR_ratio_last_first', 'SCR_spike_flag', 'SCR_mean', 'SCR_std', 'SCR_min', 'SCR_max', 'SCR_median', 'SCR_cv', 'SCR_max_diff', 'SCR_mean_diff', 'SCR_slope', 'loan_utilization', 'irac_slip_rate', 'loan_span', 'is_recent_loan', 'frequent_irac_changes', 'SDR_mean', 'SDR_std', 'SDR_min', 'SDR_max', 'SDR_median', 'SDR_cv', 'SDR_max_diff', 'SDR_mean_diff', 'SDR_slope', 'OUTSTANGBAL_mean', 'OUTSTANGBAL_std', 'OUTSTANGBAL_min', 'OUTSTANGBAL_max', 'OUTSTANGBAL_median', 'OUTSTANGBAL_cv', 'OUTSTANGBAL_max_diff', 'OUTSTANGBAL_mean_diff', 'OUTSTANGBAL_slope', 'AVGMTD_mean', 'AVGMTD_std', 'AVGMTD_min', 'AVGMTD_max', 'AVGMTD_median', 'AVGMTD_cv', 'AVGMTD_max_diff', 'AVGMTD_mean_diff', 'AVGMTD_slope', 'AVGQTD_mean', 'AVGQTD_std', 'AVGQTD_min', 'AVGQTD_max', 'AVGQTD_median', 'AVGQTD_cv', 'AVGQTD_max_diff', 'AVGQTD_mean_diff', 'AVGQTD_slope', 'AVGYTD_mean', 'AVGYTD_std', 'AVGYTD_min', 'AVGYTD_max', 'AVGYTD_median', 'AVGYTD_cv', 'AVGYTD_max_diff', 'AVGYTD_mean_diff', 'AVGYTD_slope']\n",
    "\n",
    "# Pattern to match month series prefixes, e.g. ONEMONTH, TWOMNTH, THREEMNTH, ... TWELVEMNTH etc.\n",
    "month_pattern = re.compile(r'(ONE|TWO|THREE|FOUR|FIVE|SIX|SEVEN|EIGHT|NINE|TEN|ELEVEN|TWELVE)MNTH', re.IGNORECASE)\n",
    "\n",
    "# Filter out columns that match the pattern\n",
    "filtered_cols = [col for col in cols if not month_pattern.search(col)]\n",
    "\n",
    "print(filtered_cols)\n"
   ]
  },
  {
   "cell_type": "code",
   "execution_count": 42,
   "id": "89bba5e3-e36f-4012-8df7-65509937ea04",
   "metadata": {},
   "outputs": [],
   "source": [
    "csv_file_path = 'output.csv'\n",
    "df.to_csv(csv_file_path, index=False) "
   ]
  },
  {
   "cell_type": "code",
   "execution_count": null,
   "id": "22030808-3cb6-4c72-ba9b-f8689babbc29",
   "metadata": {},
   "outputs": [],
   "source": []
  }
 ],
 "metadata": {
  "kernelspec": {
   "display_name": "Python 3 (ipykernel)",
   "language": "python",
   "name": "python3"
  },
  "language_info": {
   "codemirror_mode": {
    "name": "ipython",
    "version": 3
   },
   "file_extension": ".py",
   "mimetype": "text/x-python",
   "name": "python",
   "nbconvert_exporter": "python",
   "pygments_lexer": "ipython3",
   "version": "3.11.7"
  }
 },
 "nbformat": 4,
 "nbformat_minor": 5
}
